{
 "cells": [
  {
   "cell_type": "markdown",
   "metadata": {},
   "source": [
    "# Monnu Paul IBM Data science capstone project"
   ]
  },
  {
   "cell_type": "markdown",
   "metadata": {},
   "source": [
    "### Introduction/Problem"
   ]
  },
  {
   "cell_type": "markdown",
   "metadata": {},
   "source": [
    "I got a scholarship New york University to study predictive analysis, so got the nearest flight to New york and lodge at an Hotel, Conrad New york city hotel to be precise.\n",
    "So at lunch time i desire to have a french meal, and the hotel could not deliver such, so i had to look for the nearest restaurant on french meal close to the hotel i lodged in for the day."
   ]
  },
  {
   "cell_type": "markdown",
   "metadata": {},
   "source": [
    "So the problem is which french restaurant is available very close to the hotel, and is there a possibility to start a business on french meal restaurant"
   ]
  },
  {
   "cell_type": "markdown",
   "metadata": {},
   "source": [
    "## 2. Data\n",
    "### 2.1 Description of Data\n",
    "\n",
    "This project will rely on public data from Wikipedia and Foursquare.\n",
    "\n",
    "#### 2.1.1 Dataset 1:\n",
    "\n",
    "In this project, New York will be the city to focus on in this project. Within the New York Area project, The focus of this project will be the nieghbourhoods that are within the New York area.\n",
    "\n",
    "The New York Area consists of 5 Boroughs. Our data will be from the link - Greater London Area https://en.wikipedia.org/wiki/List_of_cities_in_New_York_(state)\n",
    "\n",
    "So, Let's get started:"
   ]
  },
  {
   "cell_type": "code",
   "execution_count": null,
   "metadata": {},
   "outputs": [],
   "source": []
  }
 ],
 "metadata": {
  "kernelspec": {
   "display_name": "Python",
   "language": "python",
   "name": "conda-env-python-py"
  },
  "language_info": {
   "codemirror_mode": {
    "name": "ipython",
    "version": 3
   },
   "file_extension": ".py",
   "mimetype": "text/x-python",
   "name": "python",
   "nbconvert_exporter": "python",
   "pygments_lexer": "ipython3",
   "version": "3.6.10"
  }
 },
 "nbformat": 4,
 "nbformat_minor": 4
}
