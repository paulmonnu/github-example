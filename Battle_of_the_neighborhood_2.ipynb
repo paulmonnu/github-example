{
 "cells": [
  {
   "cell_type": "markdown",
   "metadata": {},
   "source": [
    "# Monnu Paul IBM Data science capstone project"
   ]
  },
  {
   "cell_type": "markdown",
   "metadata": {},
   "source": [
    "\n",
    "## I. INTRODUCTION: Business Problem\n",
    "\n",
    "New York City (NYC), often called the City of New York or simply New York (NY), is the most populous city in the United States. With an estimated 2018 population of 8,398,748 distributed over about 302.6 square miles (784 km2), New York is also the most densely populated major city in the United States.[10] Located at the southern tip of the U.S. state of New York, the city is the center of the New York metropolitan area, the largest metropolitan area in the world by urban landmass.[11] With almost 20 million people in its metropolitan statistical area and approximately 23 million in its combined statistical area, it is one of the world's most populous megacities. So I've so cherished the city and i applied for a course at New York University and got a scholarship to study predictive analysis, so with great happiness i got into the nearest flight to New York and lodge at an Hotel, Conrad New York city hotel to be precise. So at lunch time, i and some group of friends decide to ask the hotel for French meal, we all desire to have a French meal, and the hotel could not deliver such, so i had to look for the nearest restaurant on French meal close to the hotel i lodged in for the day.\n",
    "\n",
    "The goal of this project is to collect best visited/reviewed and closest restaurant using Foursquare API and provide an accurate recommendation. We will be utilizing data retrieved from FourSquare API venue recommendations and The New York Area consists of 5 Boroughs. Our data will be from the link - Greater London Area https://en.wikipedia.org/wiki/Boroughs_of_New_York_City\n",
    "\n",
    "### Target audience\n",
    "The target audience will be all business location that is involved in French culture across the city.\n",
    "\n",
    "\n",
    "## 2. Data\n",
    "### 2.1 Description of Data\n",
    "This project will rely on public data from Wikipedia and Foursquare.\n",
    "\n",
    "2.1.1 Dataset 1:\n",
    "In this project, New York will be the city to focus on in this project. Within the New York Area project, The focus of this project will be the boroughs that are within the New York area.\n",
    "\n",
    "The recommender system in this notebook will provide the following use case scenario:\n",
    "\n",
    "If a person is planning to visit New York just like we did and as a student and looking for a reasonable French restaurant.\n",
    "If the user wants to receive a venue recommendation where he can get such satisfactory French meal.\n",
    "our main focus will be the data from API as it will point out the restaurants and bring out recommendations and rating of each centre\n",
    "As FourSquare API only allows 50 free venue query I would like to limit the scope of this search.\n",
    "\n",
    "II. DATA ACQUISITION\n",
    "We will use of the following data sources to make our recommendation:\n",
    "\n",
    "New York Boroughs and its entire society including the longitude and latitude of every location.\n",
    "\n",
    "I will be using the FourSquare API to explore venues in selected restaurant in New York. \n",
    "\n",
    "Venue ID\n",
    "Venue Name\n",
    "Coordinates : Latitude and Longitude\n",
    "Category Name\n",
    "Another venue query will be performed to retrieve venue ratings for each location. Note that rating information is a paid service from FourSquare and we are limited to only 50 queries per day. With this constraint, we limit the category analysis with only one type for this demo. I will try to retrieve as many ratings as possible for each retrieved venue ID.\n",
    "\n"
   ]
  },
  {
   "cell_type": "code",
   "execution_count": null,
   "metadata": {},
   "outputs": [],
   "source": []
  }
 ],
 "metadata": {
  "kernelspec": {
   "display_name": "Python",
   "language": "python",
   "name": "conda-env-python-py"
  },
  "language_info": {
   "codemirror_mode": {
    "name": "ipython",
    "version": 3
   },
   "file_extension": ".py",
   "mimetype": "text/x-python",
   "name": "python",
   "nbconvert_exporter": "python",
   "pygments_lexer": "ipython3",
   "version": "3.6.10"
  }
 },
 "nbformat": 4,
 "nbformat_minor": 4
}
