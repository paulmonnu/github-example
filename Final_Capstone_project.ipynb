{
 "cells": [
  {
   "cell_type": "markdown",
   "metadata": {},
   "source": [
    "# Monnu Paul IBM Data science capstone project"
   ]
  },
  {
   "cell_type": "markdown",
   "metadata": {},
   "source": [
    "### Introduction/Problem"
   ]
  },
  {
   "cell_type": "markdown",
   "metadata": {},
   "source": [
    "I got a scholarship New york University to study predictive analysis, so got the nearest flight to New york and lodge at an Hotel, Conrad New york city hotel to be precise. So at lunch time i desire to have a french meal, and the hotel could not deliver such, so i had to look for the nearest restaurant on french meal close to the hotel i lodged in for the day.\n",
    "\n",
    "So the problem is which french restaurant is available very close to the hotel, and is there a possibility to start a business on french meal restaurant"
   ]
  },
  {
   "cell_type": "markdown",
   "metadata": {},
   "source": [
    "## 2. Data\n",
    "### 2.1 Description of Data\n",
    "\n",
    "This project will rely on public data from Wikipedia and Foursquare.\n",
    "\n",
    "#### 2.1.1 Dataset 1:\n",
    "\n",
    "In this project, New York will be the city to focus on in this project. Within the New York Area project, The focus of this project will be the nieghbourhoods that are within the New York area.\n",
    "\n",
    "The New York Area consists of 5 Boroughs. Our data will be from the link - Greater London Area https://en.wikipedia.org/wiki/List_of_cities_in_New_York_(state)\n",
    "\n",
    "So, Let's get started:"
   ]
  },
  {
   "cell_type": "code",
   "execution_count": 25,
   "metadata": {},
   "outputs": [
    {
     "name": "stdout",
     "output_type": "stream",
     "text": [
      "Folium installed\n",
      "Libraries imported.\n"
     ]
    }
   ],
   "source": [
    "import requests # library to handle requests\n",
    "import pandas as pd # library for data analsysis\n",
    "import numpy as np # library to handle data in a vectorized manner\n",
    "import random # library for random number generation\n",
    "\n",
    "#!conda install -c conda-forge geopy --yes \n",
    "from geopy.geocoders import Nominatim # module to convert an address into latitude and longitude values\n",
    "\n",
    "# libraries for displaying images\n",
    "from IPython.display import Image \n",
    "from IPython.core.display import HTML \n",
    "    \n",
    "# tranforming json file into a pandas dataframe library\n",
    "from pandas.io.json import json_normalize\n",
    "\n",
    "#!conda install -c conda-forge folium=0.5.0 --yes\n",
    "import folium # plotting library\n",
    "\n",
    "print('Folium installed')\n",
    "print('Libraries imported.')"
   ]
  },
  {
   "cell_type": "markdown",
   "metadata": {},
   "source": [
    "so i put in my Four square client ID and client secret"
   ]
  },
  {
   "cell_type": "code",
   "execution_count": 26,
   "metadata": {},
   "outputs": [
    {
     "name": "stdout",
     "output_type": "stream",
     "text": [
      "Your credentails:\n",
      "CLIENT_ID: 00MBQFSWXTP43MGA4BF2ZM5T2FDZBNBR32TSJGTMTTCUB4X4\n",
      "CLIENT_SECRET:U0Z00OSQ3HGWGRXWQUP45CXTKCXMLDKBTLNNZZB2GXZJVYF0\n"
     ]
    }
   ],
   "source": [
    "CLIENT_ID = '00MBQFSWXTP43MGA4BF2ZM5T2FDZBNBR32TSJGTMTTCUB4X4' # your Foursquare ID\n",
    "CLIENT_SECRET = 'U0Z00OSQ3HGWGRXWQUP45CXTKCXMLDKBTLNNZZB2GXZJVYF0' # your Foursquare Secret\n",
    "VERSION = '20180604'\n",
    "LIMIT = 30\n",
    "print('Your credentails:')\n",
    "print('CLIENT_ID: ' + CLIENT_ID)\n",
    "print('CLIENT_SECRET:' + CLIENT_SECRET)"
   ]
  },
  {
   "cell_type": "markdown",
   "metadata": {},
   "source": [
    "#### Define Foursquare Credentials and Version\n",
    "\n",
    "###### Since i already have my Foursquare developer account and have your credentials handy"
   ]
  },
  {
   "cell_type": "markdown",
   "metadata": {},
   "source": [
    "#### Let's again assume that you are staying at my apartment in Nigeria. So let's start by converting the my home's address to its latitude and longitude coordinates."
   ]
  },
  {
   "cell_type": "markdown",
   "metadata": {},
   "source": [
    "In order to define an instance of the geocoder, we need to define a user_agent. We will name our agent foursquare_agent, as shown below."
   ]
  },
  {
   "cell_type": "code",
   "execution_count": 27,
   "metadata": {},
   "outputs": [
    {
     "name": "stdout",
     "output_type": "stream",
     "text": [
      "40.7149555 -74.0153365\n"
     ]
    }
   ],
   "source": [
    "address = '102 North End Ave, New York, NY'\n",
    "\n",
    "geolocator = Nominatim(user_agent=\"foursquare_agent\")\n",
    "location = geolocator.geocode(address)\n",
    "latitude = location.latitude\n",
    "longitude = location.longitude\n",
    "print(latitude, longitude)"
   ]
  },
  {
   "cell_type": "markdown",
   "metadata": {},
   "source": [
    "# 1. Search for a specific venue category"
   ]
  },
  {
   "cell_type": "markdown",
   "metadata": {},
   "source": [
    "## 1. Search for a specific venue category\n",
    "> `https://api.foursquare.com/v2/venues/`**search**`?client_id=`**CLIENT_ID**`&client_secret=`**CLIENT_SECRET**`&ll=`**LATITUDE**`,`**LONGITUDE**`&v=`**VERSION**`&query=`**QUERY**`&radius=`**RADIUS**`&limit=`**LIMIT**"
   ]
  },
  {
   "cell_type": "markdown",
   "metadata": {},
   "source": [
    "### Now, it is lunch time, and i am craving French food. So, let's define a query to search for French food that is within 1000 metres from the my apartment."
   ]
  },
  {
   "cell_type": "code",
   "execution_count": 28,
   "metadata": {},
   "outputs": [
    {
     "name": "stdout",
     "output_type": "stream",
     "text": [
      "French .... OK!\n"
     ]
    }
   ],
   "source": [
    "search_query = 'French'\n",
    "radius = 1000\n",
    "print(search_query + ' .... OK!')"
   ]
  },
  {
   "cell_type": "markdown",
   "metadata": {},
   "source": [
    "### Defining the corresponding Url"
   ]
  },
  {
   "cell_type": "code",
   "execution_count": 29,
   "metadata": {},
   "outputs": [
    {
     "data": {
      "text/plain": [
       "'https://api.foursquare.com/v2/venues/search?client_id=00MBQFSWXTP43MGA4BF2ZM5T2FDZBNBR32TSJGTMTTCUB4X4&client_secret=U0Z00OSQ3HGWGRXWQUP45CXTKCXMLDKBTLNNZZB2GXZJVYF0&ll=40.7149555,-74.0153365&v=20180604&query=French&radius=1000&limit=30'"
      ]
     },
     "execution_count": 29,
     "metadata": {},
     "output_type": "execute_result"
    }
   ],
   "source": [
    "url = 'https://api.foursquare.com/v2/venues/search?client_id={}&client_secret={}&ll={},{}&v={}&query={}&radius={}&limit={}'.format(CLIENT_ID, CLIENT_SECRET, latitude, longitude, VERSION, search_query, radius, LIMIT)\n",
    "url"
   ]
  },
  {
   "cell_type": "markdown",
   "metadata": {},
   "source": [
    "### Send the GET Request and examine the results"
   ]
  },
  {
   "cell_type": "code",
   "execution_count": 30,
   "metadata": {},
   "outputs": [],
   "source": [
    "results = requests.get(url).json()\n",
    "#results"
   ]
  },
  {
   "cell_type": "markdown",
   "metadata": {},
   "source": [
    "### Get relevant part of JSON and transform it into a pandas dataframe"
   ]
  },
  {
   "cell_type": "code",
   "execution_count": 31,
   "metadata": {},
   "outputs": [
    {
     "name": "stderr",
     "output_type": "stream",
     "text": [
      "/home/jupyterlab/conda/envs/python/lib/python3.6/site-packages/ipykernel_launcher.py:6: FutureWarning: pandas.io.json.json_normalize is deprecated, use pandas.json_normalize instead\n",
      "  \n"
     ]
    },
    {
     "data": {
      "text/html": [
       "<div>\n",
       "<style scoped>\n",
       "    .dataframe tbody tr th:only-of-type {\n",
       "        vertical-align: middle;\n",
       "    }\n",
       "\n",
       "    .dataframe tbody tr th {\n",
       "        vertical-align: top;\n",
       "    }\n",
       "\n",
       "    .dataframe thead th {\n",
       "        text-align: right;\n",
       "    }\n",
       "</style>\n",
       "<table border=\"1\" class=\"dataframe\">\n",
       "  <thead>\n",
       "    <tr style=\"text-align: right;\">\n",
       "      <th></th>\n",
       "      <th>id</th>\n",
       "      <th>name</th>\n",
       "      <th>categories</th>\n",
       "      <th>referralId</th>\n",
       "      <th>hasPerk</th>\n",
       "      <th>location.lat</th>\n",
       "      <th>location.lng</th>\n",
       "      <th>location.labeledLatLngs</th>\n",
       "      <th>location.distance</th>\n",
       "      <th>location.postalCode</th>\n",
       "      <th>location.cc</th>\n",
       "      <th>location.city</th>\n",
       "      <th>location.state</th>\n",
       "      <th>location.country</th>\n",
       "      <th>location.formattedAddress</th>\n",
       "      <th>location.address</th>\n",
       "      <th>location.crossStreet</th>\n",
       "    </tr>\n",
       "  </thead>\n",
       "  <tbody>\n",
       "    <tr>\n",
       "      <th>0</th>\n",
       "      <td>4f8df559e4b0321759ad61e6</td>\n",
       "      <td>French Class</td>\n",
       "      <td>[{'id': '4bf58dd8d48988d1a2941735', 'name': 'Community College', 'pluralName': 'Community Colleges', 'shortName': 'Community College', 'icon': {'prefix': 'https://ss3.4sqi.net/img/categories_v2/education/communitycollege_', 'suffix': '.png'}, 'primary': True}]</td>\n",
       "      <td>v-1586878592</td>\n",
       "      <td>False</td>\n",
       "      <td>40.718298</td>\n",
       "      <td>-74.012451</td>\n",
       "      <td>[{'label': 'display', 'lat': 40.7182976122709, 'lng': -74.0124511008905}]</td>\n",
       "      <td>444</td>\n",
       "      <td>10013</td>\n",
       "      <td>US</td>\n",
       "      <td>New York</td>\n",
       "      <td>NY</td>\n",
       "      <td>United States</td>\n",
       "      <td>[New York, NY 10013, United States]</td>\n",
       "      <td>NaN</td>\n",
       "      <td>NaN</td>\n",
       "    </tr>\n",
       "    <tr>\n",
       "      <th>1</th>\n",
       "      <td>4bc6fa9015a7ef3b498478da</td>\n",
       "      <td>French Cleaners</td>\n",
       "      <td>[{'id': '4bf58dd8d48988d1fc941735', 'name': 'Laundry Service', 'pluralName': 'Laundry Services', 'shortName': 'Laundry', 'icon': {'prefix': 'https://ss3.4sqi.net/img/categories_v2/shops/laundry_', 'suffix': '.png'}, 'primary': True}]</td>\n",
       "      <td>v-1586878592</td>\n",
       "      <td>False</td>\n",
       "      <td>40.716866</td>\n",
       "      <td>-74.010291</td>\n",
       "      <td>[{'label': 'display', 'lat': 40.716865999999996, 'lng': -74.01029100000001}, {'label': '?', 'lat': 40.716797, 'lng': -74.010323}]</td>\n",
       "      <td>475</td>\n",
       "      <td>10013</td>\n",
       "      <td>US</td>\n",
       "      <td>New York</td>\n",
       "      <td>NY</td>\n",
       "      <td>United States</td>\n",
       "      <td>[154 Reade St (Greenwich), New York, NY 10013, United States]</td>\n",
       "      <td>154 Reade St</td>\n",
       "      <td>Greenwich</td>\n",
       "    </tr>\n",
       "    <tr>\n",
       "      <th>2</th>\n",
       "      <td>4d1f954ebdd7a09357c5e6ce</td>\n",
       "      <td>Fort French</td>\n",
       "      <td>[]</td>\n",
       "      <td>v-1586878592</td>\n",
       "      <td>False</td>\n",
       "      <td>40.719405</td>\n",
       "      <td>-74.011061</td>\n",
       "      <td>[{'label': 'display', 'lat': 40.719405, 'lng': -74.011061}]</td>\n",
       "      <td>612</td>\n",
       "      <td>NaN</td>\n",
       "      <td>US</td>\n",
       "      <td>NaN</td>\n",
       "      <td>New York</td>\n",
       "      <td>United States</td>\n",
       "      <td>[New York, United States]</td>\n",
       "      <td>NaN</td>\n",
       "      <td>NaN</td>\n",
       "    </tr>\n",
       "    <tr>\n",
       "      <th>3</th>\n",
       "      <td>5149d5b0e4b0f4a69c789f83</td>\n",
       "      <td>French And Casey</td>\n",
       "      <td>[{'id': '4bf58dd8d48988d124941735', 'name': 'Office', 'pluralName': 'Offices', 'shortName': 'Office', 'icon': {'prefix': 'https://ss3.4sqi.net/img/categories_v2/building/default_', 'suffix': '.png'}, 'primary': True}]</td>\n",
       "      <td>v-1586878592</td>\n",
       "      <td>False</td>\n",
       "      <td>40.706416</td>\n",
       "      <td>-74.013759</td>\n",
       "      <td>[{'label': 'display', 'lat': 40.706416, 'lng': -74.013759}, {'label': '?', 'lat': 40.706035, 'lng': -74.013286}]</td>\n",
       "      <td>959</td>\n",
       "      <td>10006</td>\n",
       "      <td>US</td>\n",
       "      <td>New York</td>\n",
       "      <td>NY</td>\n",
       "      <td>United States</td>\n",
       "      <td>[29 Broadway, New York, NY 10006, United States]</td>\n",
       "      <td>29 Broadway</td>\n",
       "      <td>NaN</td>\n",
       "    </tr>\n",
       "    <tr>\n",
       "      <th>4</th>\n",
       "      <td>4f6778dfe4b015497def1ceb</td>\n",
       "      <td>French kiss Boudoir Photography</td>\n",
       "      <td>[{'id': '4eb1bdde3b7b55596b4a7490', 'name': 'Photography Lab', 'pluralName': 'Photography Labs', 'shortName': 'Photography Lab', 'icon': {'prefix': 'https://ss3.4sqi.net/img/categories_v2/shops/photographylab_', 'suffix': '.png'}, 'primary': True}]</td>\n",
       "      <td>v-1586878592</td>\n",
       "      <td>False</td>\n",
       "      <td>40.717808</td>\n",
       "      <td>-74.004822</td>\n",
       "      <td>[{'label': 'display', 'lat': 40.71780776977539, 'lng': -74.00482177734375}, {'label': '?', 'lat': 40.717923, 'lng': -74.004742}]</td>\n",
       "      <td>942</td>\n",
       "      <td>10013</td>\n",
       "      <td>US</td>\n",
       "      <td>New York</td>\n",
       "      <td>NY</td>\n",
       "      <td>United States</td>\n",
       "      <td>[85 Franklin St, New York, NY 10013, New York, NY 10013, United States]</td>\n",
       "      <td>85 Franklin St, New York, NY 10013</td>\n",
       "      <td>NaN</td>\n",
       "    </tr>\n",
       "    <tr>\n",
       "      <th>5</th>\n",
       "      <td>4e4e4a47bd4101d0d7a6f34b</td>\n",
       "      <td>Le Croissant Shop French Bakery</td>\n",
       "      <td>[{'id': '4bf58dd8d48988d16a941735', 'name': 'Bakery', 'pluralName': 'Bakeries', 'shortName': 'Bakery', 'icon': {'prefix': 'https://ss3.4sqi.net/img/categories_v2/food/bakery_', 'suffix': '.png'}, 'primary': True}]</td>\n",
       "      <td>v-1586878592</td>\n",
       "      <td>False</td>\n",
       "      <td>40.717991</td>\n",
       "      <td>-74.009496</td>\n",
       "      <td>[{'label': 'display', 'lat': 40.71799133506263, 'lng': -74.00949587210722}]</td>\n",
       "      <td>597</td>\n",
       "      <td>10013</td>\n",
       "      <td>US</td>\n",
       "      <td>New York</td>\n",
       "      <td>NY</td>\n",
       "      <td>United States</td>\n",
       "      <td>[10 Ave. of the Americas, New York, NY 10013, United States]</td>\n",
       "      <td>10 Ave. of the Americas</td>\n",
       "      <td>NaN</td>\n",
       "    </tr>\n",
       "    <tr>\n",
       "      <th>6</th>\n",
       "      <td>4f32b24519836c91c7f0c696</td>\n",
       "      <td>M C Choi French Restaurant</td>\n",
       "      <td>[{'id': '4d4b7105d754a06374d81259', 'name': 'Food', 'pluralName': 'Food', 'shortName': 'Food', 'icon': {'prefix': 'https://ss3.4sqi.net/img/categories_v2/food/default_', 'suffix': '.png'}, 'primary': True}]</td>\n",
       "      <td>v-1586878592</td>\n",
       "      <td>False</td>\n",
       "      <td>40.716547</td>\n",
       "      <td>-74.006684</td>\n",
       "      <td>[{'label': 'display', 'lat': 40.716547, 'lng': -74.006684}]</td>\n",
       "      <td>751</td>\n",
       "      <td>10013</td>\n",
       "      <td>US</td>\n",
       "      <td>New York</td>\n",
       "      <td>NY</td>\n",
       "      <td>United States</td>\n",
       "      <td>[200 Church St, New York, NY 10013, United States]</td>\n",
       "      <td>200 Church St</td>\n",
       "      <td>NaN</td>\n",
       "    </tr>\n",
       "    <tr>\n",
       "      <th>7</th>\n",
       "      <td>5abc33ccad17896edaca3d61</td>\n",
       "      <td>Frenchette</td>\n",
       "      <td>[{'id': '4bf58dd8d48988d10c941735', 'name': 'French Restaurant', 'pluralName': 'French Restaurants', 'shortName': 'French', 'icon': {'prefix': 'https://ss3.4sqi.net/img/categories_v2/food/french_', 'suffix': '.png'}, 'primary': True}]</td>\n",
       "      <td>v-1586878592</td>\n",
       "      <td>False</td>\n",
       "      <td>40.719596</td>\n",
       "      <td>-74.005786</td>\n",
       "      <td>[{'label': 'display', 'lat': 40.719596, 'lng': -74.005786}, {'label': '?', 'lat': 40.719652, 'lng': -74.005769}]</td>\n",
       "      <td>957</td>\n",
       "      <td>10013</td>\n",
       "      <td>US</td>\n",
       "      <td>New York</td>\n",
       "      <td>NY</td>\n",
       "      <td>United States</td>\n",
       "      <td>[241 W Broadway (at N Moore St), New York, NY 10013, United States]</td>\n",
       "      <td>241 W Broadway</td>\n",
       "      <td>at N Moore St</td>\n",
       "    </tr>\n",
       "    <tr>\n",
       "      <th>8</th>\n",
       "      <td>51391633e4b055f6c73e75fc</td>\n",
       "      <td>French4NYC</td>\n",
       "      <td>[]</td>\n",
       "      <td>v-1586878592</td>\n",
       "      <td>False</td>\n",
       "      <td>40.706669</td>\n",
       "      <td>-74.009956</td>\n",
       "      <td>[{'label': 'display', 'lat': 40.706669, 'lng': -74.009956}]</td>\n",
       "      <td>1028</td>\n",
       "      <td>10005</td>\n",
       "      <td>US</td>\n",
       "      <td>New York</td>\n",
       "      <td>NY</td>\n",
       "      <td>United States</td>\n",
       "      <td>[37 Wall St, New York, NY 10005, United States]</td>\n",
       "      <td>37 Wall St</td>\n",
       "      <td>NaN</td>\n",
       "    </tr>\n",
       "  </tbody>\n",
       "</table>\n",
       "</div>"
      ],
      "text/plain": [
       "                         id                             name  \\\n",
       "0  4f8df559e4b0321759ad61e6  French Class                      \n",
       "1  4bc6fa9015a7ef3b498478da  French Cleaners                   \n",
       "2  4d1f954ebdd7a09357c5e6ce  Fort French                       \n",
       "3  5149d5b0e4b0f4a69c789f83  French And Casey                  \n",
       "4  4f6778dfe4b015497def1ceb  French kiss Boudoir Photography   \n",
       "5  4e4e4a47bd4101d0d7a6f34b  Le Croissant Shop French Bakery   \n",
       "6  4f32b24519836c91c7f0c696  M C Choi French Restaurant        \n",
       "7  5abc33ccad17896edaca3d61  Frenchette                        \n",
       "8  51391633e4b055f6c73e75fc  French4NYC                        \n",
       "\n",
       "                                                                                                                                                                                                                                                             categories  \\\n",
       "0  [{'id': '4bf58dd8d48988d1a2941735', 'name': 'Community College', 'pluralName': 'Community Colleges', 'shortName': 'Community College', 'icon': {'prefix': 'https://ss3.4sqi.net/img/categories_v2/education/communitycollege_', 'suffix': '.png'}, 'primary': True}]   \n",
       "1  [{'id': '4bf58dd8d48988d1fc941735', 'name': 'Laundry Service', 'pluralName': 'Laundry Services', 'shortName': 'Laundry', 'icon': {'prefix': 'https://ss3.4sqi.net/img/categories_v2/shops/laundry_', 'suffix': '.png'}, 'primary': True}]                              \n",
       "2  []                                                                                                                                                                                                                                                                     \n",
       "3  [{'id': '4bf58dd8d48988d124941735', 'name': 'Office', 'pluralName': 'Offices', 'shortName': 'Office', 'icon': {'prefix': 'https://ss3.4sqi.net/img/categories_v2/building/default_', 'suffix': '.png'}, 'primary': True}]                                              \n",
       "4  [{'id': '4eb1bdde3b7b55596b4a7490', 'name': 'Photography Lab', 'pluralName': 'Photography Labs', 'shortName': 'Photography Lab', 'icon': {'prefix': 'https://ss3.4sqi.net/img/categories_v2/shops/photographylab_', 'suffix': '.png'}, 'primary': True}]               \n",
       "5  [{'id': '4bf58dd8d48988d16a941735', 'name': 'Bakery', 'pluralName': 'Bakeries', 'shortName': 'Bakery', 'icon': {'prefix': 'https://ss3.4sqi.net/img/categories_v2/food/bakery_', 'suffix': '.png'}, 'primary': True}]                                                  \n",
       "6  [{'id': '4d4b7105d754a06374d81259', 'name': 'Food', 'pluralName': 'Food', 'shortName': 'Food', 'icon': {'prefix': 'https://ss3.4sqi.net/img/categories_v2/food/default_', 'suffix': '.png'}, 'primary': True}]                                                         \n",
       "7  [{'id': '4bf58dd8d48988d10c941735', 'name': 'French Restaurant', 'pluralName': 'French Restaurants', 'shortName': 'French', 'icon': {'prefix': 'https://ss3.4sqi.net/img/categories_v2/food/french_', 'suffix': '.png'}, 'primary': True}]                             \n",
       "8  []                                                                                                                                                                                                                                                                     \n",
       "\n",
       "     referralId  hasPerk  location.lat  location.lng  \\\n",
       "0  v-1586878592  False    40.718298    -74.012451      \n",
       "1  v-1586878592  False    40.716866    -74.010291      \n",
       "2  v-1586878592  False    40.719405    -74.011061      \n",
       "3  v-1586878592  False    40.706416    -74.013759      \n",
       "4  v-1586878592  False    40.717808    -74.004822      \n",
       "5  v-1586878592  False    40.717991    -74.009496      \n",
       "6  v-1586878592  False    40.716547    -74.006684      \n",
       "7  v-1586878592  False    40.719596    -74.005786      \n",
       "8  v-1586878592  False    40.706669    -74.009956      \n",
       "\n",
       "                                                                                                             location.labeledLatLngs  \\\n",
       "0  [{'label': 'display', 'lat': 40.7182976122709, 'lng': -74.0124511008905}]                                                           \n",
       "1  [{'label': 'display', 'lat': 40.716865999999996, 'lng': -74.01029100000001}, {'label': '?', 'lat': 40.716797, 'lng': -74.010323}]   \n",
       "2  [{'label': 'display', 'lat': 40.719405, 'lng': -74.011061}]                                                                         \n",
       "3  [{'label': 'display', 'lat': 40.706416, 'lng': -74.013759}, {'label': '?', 'lat': 40.706035, 'lng': -74.013286}]                    \n",
       "4  [{'label': 'display', 'lat': 40.71780776977539, 'lng': -74.00482177734375}, {'label': '?', 'lat': 40.717923, 'lng': -74.004742}]    \n",
       "5  [{'label': 'display', 'lat': 40.71799133506263, 'lng': -74.00949587210722}]                                                         \n",
       "6  [{'label': 'display', 'lat': 40.716547, 'lng': -74.006684}]                                                                         \n",
       "7  [{'label': 'display', 'lat': 40.719596, 'lng': -74.005786}, {'label': '?', 'lat': 40.719652, 'lng': -74.005769}]                    \n",
       "8  [{'label': 'display', 'lat': 40.706669, 'lng': -74.009956}]                                                                         \n",
       "\n",
       "   location.distance location.postalCode location.cc location.city  \\\n",
       "0  444                10013               US          New York       \n",
       "1  475                10013               US          New York       \n",
       "2  612                NaN                 US          NaN            \n",
       "3  959                10006               US          New York       \n",
       "4  942                10013               US          New York       \n",
       "5  597                10013               US          New York       \n",
       "6  751                10013               US          New York       \n",
       "7  957                10013               US          New York       \n",
       "8  1028               10005               US          New York       \n",
       "\n",
       "  location.state location.country  \\\n",
       "0  NY             United States     \n",
       "1  NY             United States     \n",
       "2  New York       United States     \n",
       "3  NY             United States     \n",
       "4  NY             United States     \n",
       "5  NY             United States     \n",
       "6  NY             United States     \n",
       "7  NY             United States     \n",
       "8  NY             United States     \n",
       "\n",
       "                                                 location.formattedAddress  \\\n",
       "0  [New York, NY 10013, United States]                                       \n",
       "1  [154 Reade St (Greenwich), New York, NY 10013, United States]             \n",
       "2  [New York, United States]                                                 \n",
       "3  [29 Broadway, New York, NY 10006, United States]                          \n",
       "4  [85 Franklin St, New York, NY 10013, New York, NY 10013, United States]   \n",
       "5  [10 Ave. of the Americas, New York, NY 10013, United States]              \n",
       "6  [200 Church St, New York, NY 10013, United States]                        \n",
       "7  [241 W Broadway (at N Moore St), New York, NY 10013, United States]       \n",
       "8  [37 Wall St, New York, NY 10005, United States]                           \n",
       "\n",
       "                     location.address location.crossStreet  \n",
       "0  NaN                                 NaN                  \n",
       "1  154 Reade St                        Greenwich            \n",
       "2  NaN                                 NaN                  \n",
       "3  29 Broadway                         NaN                  \n",
       "4  85 Franklin St, New York, NY 10013  NaN                  \n",
       "5  10 Ave. of the Americas             NaN                  \n",
       "6  200 Church St                       NaN                  \n",
       "7  241 W Broadway                      at N Moore St        \n",
       "8  37 Wall St                          NaN                  "
      ]
     },
     "execution_count": 31,
     "metadata": {},
     "output_type": "execute_result"
    }
   ],
   "source": [
    "from pandas.io.json import json_normalize\n",
    "# assign relevant part of JSON to venues\n",
    "venues = results['response']['venues']\n",
    "\n",
    "# tranform venues into a dataframe\n",
    "dataframe = json_normalize(venues)\n",
    "dataframe"
   ]
  },
  {
   "cell_type": "markdown",
   "metadata": {},
   "source": [
    "#### Define information of interest and filter dataframe"
   ]
  },
  {
   "cell_type": "code",
   "execution_count": 32,
   "metadata": {},
   "outputs": [
    {
     "data": {
      "text/plain": [
       "0    [{'id': '4bf58dd8d48988d1a2941735', 'name': 'Community College', 'pluralName': 'Community Colleges', 'shortName': 'Community College', 'icon': {'prefix': 'https://ss3.4sqi.net/img/categories_v2/education/communitycollege_', 'suffix': '.png'}, 'primary': True}]\n",
       "1    [{'id': '4bf58dd8d48988d1fc941735', 'name': 'Laundry Service', 'pluralName': 'Laundry Services', 'shortName': 'Laundry', 'icon': {'prefix': 'https://ss3.4sqi.net/img/categories_v2/shops/laundry_', 'suffix': '.png'}, 'primary': True}]                           \n",
       "2    []                                                                                                                                                                                                                                                                  \n",
       "3    [{'id': '4bf58dd8d48988d124941735', 'name': 'Office', 'pluralName': 'Offices', 'shortName': 'Office', 'icon': {'prefix': 'https://ss3.4sqi.net/img/categories_v2/building/default_', 'suffix': '.png'}, 'primary': True}]                                           \n",
       "4    [{'id': '4eb1bdde3b7b55596b4a7490', 'name': 'Photography Lab', 'pluralName': 'Photography Labs', 'shortName': 'Photography Lab', 'icon': {'prefix': 'https://ss3.4sqi.net/img/categories_v2/shops/photographylab_', 'suffix': '.png'}, 'primary': True}]            \n",
       "Name: categories, dtype: object"
      ]
     },
     "execution_count": 32,
     "metadata": {},
     "output_type": "execute_result"
    }
   ],
   "source": [
    "# keep only columns that include venue name, and anything that is associated with location\n",
    "filtered_columns = ['name', 'categories'] + [col for col in dataframe.columns if col.startswith('location.')] + ['id']\n",
    "dataframe_filtered = dataframe.loc[:, filtered_columns]\n",
    "dataframe_filtered['categories'].head()"
   ]
  },
  {
   "cell_type": "code",
   "execution_count": 33,
   "metadata": {},
   "outputs": [],
   "source": [
    "# function that extracts the category of the venue\n",
    "def get_category_type(row):\n",
    "    try:\n",
    "        categories_list = row['categories']\n",
    "    except:\n",
    "        categories_list = row['venue.categories']\n",
    "        \n",
    "    if len(categories_list) == 0:\n",
    "        return None\n",
    "    else:\n",
    "        return categories_list[0]['name']"
   ]
  },
  {
   "cell_type": "code",
   "execution_count": 34,
   "metadata": {},
   "outputs": [],
   "source": [
    "# filter the category for each row\n",
    "dataframe_filtered['categories'] = dataframe_filtered.apply(get_category_type, axis=1)"
   ]
  },
  {
   "cell_type": "code",
   "execution_count": 36,
   "metadata": {},
   "outputs": [
    {
     "data": {
      "text/html": [
       "<div>\n",
       "<style scoped>\n",
       "    .dataframe tbody tr th:only-of-type {\n",
       "        vertical-align: middle;\n",
       "    }\n",
       "\n",
       "    .dataframe tbody tr th {\n",
       "        vertical-align: top;\n",
       "    }\n",
       "\n",
       "    .dataframe thead th {\n",
       "        text-align: right;\n",
       "    }\n",
       "</style>\n",
       "<table border=\"1\" class=\"dataframe\">\n",
       "  <thead>\n",
       "    <tr style=\"text-align: right;\">\n",
       "      <th></th>\n",
       "      <th>name</th>\n",
       "      <th>categories</th>\n",
       "      <th>lat</th>\n",
       "      <th>lng</th>\n",
       "      <th>labeledLatLngs</th>\n",
       "      <th>distance</th>\n",
       "      <th>postalCode</th>\n",
       "      <th>cc</th>\n",
       "      <th>city</th>\n",
       "      <th>state</th>\n",
       "      <th>country</th>\n",
       "      <th>formattedAddress</th>\n",
       "      <th>address</th>\n",
       "      <th>crossStreet</th>\n",
       "      <th>id</th>\n",
       "    </tr>\n",
       "  </thead>\n",
       "  <tbody>\n",
       "    <tr>\n",
       "      <th>0</th>\n",
       "      <td>French Class</td>\n",
       "      <td>Community College</td>\n",
       "      <td>40.718298</td>\n",
       "      <td>-74.012451</td>\n",
       "      <td>[{'label': 'display', 'lat': 40.7182976122709, 'lng': -74.0124511008905}]</td>\n",
       "      <td>444</td>\n",
       "      <td>10013</td>\n",
       "      <td>US</td>\n",
       "      <td>New York</td>\n",
       "      <td>NY</td>\n",
       "      <td>United States</td>\n",
       "      <td>[New York, NY 10013, United States]</td>\n",
       "      <td>NaN</td>\n",
       "      <td>NaN</td>\n",
       "      <td>4f8df559e4b0321759ad61e6</td>\n",
       "    </tr>\n",
       "    <tr>\n",
       "      <th>1</th>\n",
       "      <td>French Cleaners</td>\n",
       "      <td>Laundry Service</td>\n",
       "      <td>40.716866</td>\n",
       "      <td>-74.010291</td>\n",
       "      <td>[{'label': 'display', 'lat': 40.716865999999996, 'lng': -74.01029100000001}, {'label': '?', 'lat': 40.716797, 'lng': -74.010323}]</td>\n",
       "      <td>475</td>\n",
       "      <td>10013</td>\n",
       "      <td>US</td>\n",
       "      <td>New York</td>\n",
       "      <td>NY</td>\n",
       "      <td>United States</td>\n",
       "      <td>[154 Reade St (Greenwich), New York, NY 10013, United States]</td>\n",
       "      <td>154 Reade St</td>\n",
       "      <td>Greenwich</td>\n",
       "      <td>4bc6fa9015a7ef3b498478da</td>\n",
       "    </tr>\n",
       "    <tr>\n",
       "      <th>2</th>\n",
       "      <td>Fort French</td>\n",
       "      <td>None</td>\n",
       "      <td>40.719405</td>\n",
       "      <td>-74.011061</td>\n",
       "      <td>[{'label': 'display', 'lat': 40.719405, 'lng': -74.011061}]</td>\n",
       "      <td>612</td>\n",
       "      <td>NaN</td>\n",
       "      <td>US</td>\n",
       "      <td>NaN</td>\n",
       "      <td>New York</td>\n",
       "      <td>United States</td>\n",
       "      <td>[New York, United States]</td>\n",
       "      <td>NaN</td>\n",
       "      <td>NaN</td>\n",
       "      <td>4d1f954ebdd7a09357c5e6ce</td>\n",
       "    </tr>\n",
       "    <tr>\n",
       "      <th>3</th>\n",
       "      <td>French And Casey</td>\n",
       "      <td>Office</td>\n",
       "      <td>40.706416</td>\n",
       "      <td>-74.013759</td>\n",
       "      <td>[{'label': 'display', 'lat': 40.706416, 'lng': -74.013759}, {'label': '?', 'lat': 40.706035, 'lng': -74.013286}]</td>\n",
       "      <td>959</td>\n",
       "      <td>10006</td>\n",
       "      <td>US</td>\n",
       "      <td>New York</td>\n",
       "      <td>NY</td>\n",
       "      <td>United States</td>\n",
       "      <td>[29 Broadway, New York, NY 10006, United States]</td>\n",
       "      <td>29 Broadway</td>\n",
       "      <td>NaN</td>\n",
       "      <td>5149d5b0e4b0f4a69c789f83</td>\n",
       "    </tr>\n",
       "    <tr>\n",
       "      <th>4</th>\n",
       "      <td>French kiss Boudoir Photography</td>\n",
       "      <td>Photography Lab</td>\n",
       "      <td>40.717808</td>\n",
       "      <td>-74.004822</td>\n",
       "      <td>[{'label': 'display', 'lat': 40.71780776977539, 'lng': -74.00482177734375}, {'label': '?', 'lat': 40.717923, 'lng': -74.004742}]</td>\n",
       "      <td>942</td>\n",
       "      <td>10013</td>\n",
       "      <td>US</td>\n",
       "      <td>New York</td>\n",
       "      <td>NY</td>\n",
       "      <td>United States</td>\n",
       "      <td>[85 Franklin St, New York, NY 10013, New York, NY 10013, United States]</td>\n",
       "      <td>85 Franklin St, New York, NY 10013</td>\n",
       "      <td>NaN</td>\n",
       "      <td>4f6778dfe4b015497def1ceb</td>\n",
       "    </tr>\n",
       "    <tr>\n",
       "      <th>5</th>\n",
       "      <td>Le Croissant Shop French Bakery</td>\n",
       "      <td>Bakery</td>\n",
       "      <td>40.717991</td>\n",
       "      <td>-74.009496</td>\n",
       "      <td>[{'label': 'display', 'lat': 40.71799133506263, 'lng': -74.00949587210722}]</td>\n",
       "      <td>597</td>\n",
       "      <td>10013</td>\n",
       "      <td>US</td>\n",
       "      <td>New York</td>\n",
       "      <td>NY</td>\n",
       "      <td>United States</td>\n",
       "      <td>[10 Ave. of the Americas, New York, NY 10013, United States]</td>\n",
       "      <td>10 Ave. of the Americas</td>\n",
       "      <td>NaN</td>\n",
       "      <td>4e4e4a47bd4101d0d7a6f34b</td>\n",
       "    </tr>\n",
       "    <tr>\n",
       "      <th>6</th>\n",
       "      <td>M C Choi French Restaurant</td>\n",
       "      <td>Food</td>\n",
       "      <td>40.716547</td>\n",
       "      <td>-74.006684</td>\n",
       "      <td>[{'label': 'display', 'lat': 40.716547, 'lng': -74.006684}]</td>\n",
       "      <td>751</td>\n",
       "      <td>10013</td>\n",
       "      <td>US</td>\n",
       "      <td>New York</td>\n",
       "      <td>NY</td>\n",
       "      <td>United States</td>\n",
       "      <td>[200 Church St, New York, NY 10013, United States]</td>\n",
       "      <td>200 Church St</td>\n",
       "      <td>NaN</td>\n",
       "      <td>4f32b24519836c91c7f0c696</td>\n",
       "    </tr>\n",
       "    <tr>\n",
       "      <th>7</th>\n",
       "      <td>Frenchette</td>\n",
       "      <td>French Restaurant</td>\n",
       "      <td>40.719596</td>\n",
       "      <td>-74.005786</td>\n",
       "      <td>[{'label': 'display', 'lat': 40.719596, 'lng': -74.005786}, {'label': '?', 'lat': 40.719652, 'lng': -74.005769}]</td>\n",
       "      <td>957</td>\n",
       "      <td>10013</td>\n",
       "      <td>US</td>\n",
       "      <td>New York</td>\n",
       "      <td>NY</td>\n",
       "      <td>United States</td>\n",
       "      <td>[241 W Broadway (at N Moore St), New York, NY 10013, United States]</td>\n",
       "      <td>241 W Broadway</td>\n",
       "      <td>at N Moore St</td>\n",
       "      <td>5abc33ccad17896edaca3d61</td>\n",
       "    </tr>\n",
       "    <tr>\n",
       "      <th>8</th>\n",
       "      <td>French4NYC</td>\n",
       "      <td>None</td>\n",
       "      <td>40.706669</td>\n",
       "      <td>-74.009956</td>\n",
       "      <td>[{'label': 'display', 'lat': 40.706669, 'lng': -74.009956}]</td>\n",
       "      <td>1028</td>\n",
       "      <td>10005</td>\n",
       "      <td>US</td>\n",
       "      <td>New York</td>\n",
       "      <td>NY</td>\n",
       "      <td>United States</td>\n",
       "      <td>[37 Wall St, New York, NY 10005, United States]</td>\n",
       "      <td>37 Wall St</td>\n",
       "      <td>NaN</td>\n",
       "      <td>51391633e4b055f6c73e75fc</td>\n",
       "    </tr>\n",
       "  </tbody>\n",
       "</table>\n",
       "</div>"
      ],
      "text/plain": [
       "                              name         categories        lat        lng  \\\n",
       "0  French Class                     Community College  40.718298 -74.012451   \n",
       "1  French Cleaners                  Laundry Service    40.716866 -74.010291   \n",
       "2  Fort French                      None               40.719405 -74.011061   \n",
       "3  French And Casey                 Office             40.706416 -74.013759   \n",
       "4  French kiss Boudoir Photography  Photography Lab    40.717808 -74.004822   \n",
       "5  Le Croissant Shop French Bakery  Bakery             40.717991 -74.009496   \n",
       "6  M C Choi French Restaurant       Food               40.716547 -74.006684   \n",
       "7  Frenchette                       French Restaurant  40.719596 -74.005786   \n",
       "8  French4NYC                       None               40.706669 -74.009956   \n",
       "\n",
       "                                                                                                                      labeledLatLngs  \\\n",
       "0  [{'label': 'display', 'lat': 40.7182976122709, 'lng': -74.0124511008905}]                                                           \n",
       "1  [{'label': 'display', 'lat': 40.716865999999996, 'lng': -74.01029100000001}, {'label': '?', 'lat': 40.716797, 'lng': -74.010323}]   \n",
       "2  [{'label': 'display', 'lat': 40.719405, 'lng': -74.011061}]                                                                         \n",
       "3  [{'label': 'display', 'lat': 40.706416, 'lng': -74.013759}, {'label': '?', 'lat': 40.706035, 'lng': -74.013286}]                    \n",
       "4  [{'label': 'display', 'lat': 40.71780776977539, 'lng': -74.00482177734375}, {'label': '?', 'lat': 40.717923, 'lng': -74.004742}]    \n",
       "5  [{'label': 'display', 'lat': 40.71799133506263, 'lng': -74.00949587210722}]                                                         \n",
       "6  [{'label': 'display', 'lat': 40.716547, 'lng': -74.006684}]                                                                         \n",
       "7  [{'label': 'display', 'lat': 40.719596, 'lng': -74.005786}, {'label': '?', 'lat': 40.719652, 'lng': -74.005769}]                    \n",
       "8  [{'label': 'display', 'lat': 40.706669, 'lng': -74.009956}]                                                                         \n",
       "\n",
       "   distance postalCode  cc      city     state        country  \\\n",
       "0  444       10013      US  New York  NY        United States   \n",
       "1  475       10013      US  New York  NY        United States   \n",
       "2  612       NaN        US  NaN       New York  United States   \n",
       "3  959       10006      US  New York  NY        United States   \n",
       "4  942       10013      US  New York  NY        United States   \n",
       "5  597       10013      US  New York  NY        United States   \n",
       "6  751       10013      US  New York  NY        United States   \n",
       "7  957       10013      US  New York  NY        United States   \n",
       "8  1028      10005      US  New York  NY        United States   \n",
       "\n",
       "                                                          formattedAddress  \\\n",
       "0  [New York, NY 10013, United States]                                       \n",
       "1  [154 Reade St (Greenwich), New York, NY 10013, United States]             \n",
       "2  [New York, United States]                                                 \n",
       "3  [29 Broadway, New York, NY 10006, United States]                          \n",
       "4  [85 Franklin St, New York, NY 10013, New York, NY 10013, United States]   \n",
       "5  [10 Ave. of the Americas, New York, NY 10013, United States]              \n",
       "6  [200 Church St, New York, NY 10013, United States]                        \n",
       "7  [241 W Broadway (at N Moore St), New York, NY 10013, United States]       \n",
       "8  [37 Wall St, New York, NY 10005, United States]                           \n",
       "\n",
       "                              address    crossStreet                        id  \n",
       "0  NaN                                 NaN            4f8df559e4b0321759ad61e6  \n",
       "1  154 Reade St                        Greenwich      4bc6fa9015a7ef3b498478da  \n",
       "2  NaN                                 NaN            4d1f954ebdd7a09357c5e6ce  \n",
       "3  29 Broadway                         NaN            5149d5b0e4b0f4a69c789f83  \n",
       "4  85 Franklin St, New York, NY 10013  NaN            4f6778dfe4b015497def1ceb  \n",
       "5  10 Ave. of the Americas             NaN            4e4e4a47bd4101d0d7a6f34b  \n",
       "6  200 Church St                       NaN            4f32b24519836c91c7f0c696  \n",
       "7  241 W Broadway                      at N Moore St  5abc33ccad17896edaca3d61  \n",
       "8  37 Wall St                          NaN            51391633e4b055f6c73e75fc  "
      ]
     },
     "execution_count": 36,
     "metadata": {},
     "output_type": "execute_result"
    }
   ],
   "source": [
    "# clean column names by keeping only last term\n",
    "dataframe_filtered.columns = [column.split('.')[-1] for column in dataframe_filtered.columns]\n",
    "\n",
    "dataframe_filtered"
   ]
  },
  {
   "cell_type": "markdown",
   "metadata": {},
   "source": [
    "#### Let's visualize the French restaurants that are nearby"
   ]
  },
  {
   "cell_type": "code",
   "execution_count": 37,
   "metadata": {},
   "outputs": [
    {
     "data": {
      "text/plain": [
       "0    French Class                   \n",
       "1    French Cleaners                \n",
       "2    Fort French                    \n",
       "3    French And Casey               \n",
       "4    French kiss Boudoir Photography\n",
       "Name: name, dtype: object"
      ]
     },
     "execution_count": 37,
     "metadata": {},
     "output_type": "execute_result"
    }
   ],
   "source": [
    "dataframe_filtered.name.head()"
   ]
  },
  {
   "cell_type": "code",
   "execution_count": 38,
   "metadata": {},
   "outputs": [
    {
     "data": {
      "text/html": [
       "<div style=\"width:100%;\"><div style=\"position:relative;width:100%;height:0;padding-bottom:60%;\"><iframe src=\"about:blank\" style=\"position:absolute;width:100%;height:100%;left:0;top:0;border:none !important;\" data-html=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 onload=\"this.contentDocument.open();this.contentDocument.write(atob(this.getAttribute('data-html')));this.contentDocument.close();\" allowfullscreen webkitallowfullscreen mozallowfullscreen></iframe></div></div>"
      ],
      "text/plain": [
       "<folium.folium.Map at 0x7f1a908af0b8>"
      ]
     },
     "execution_count": 38,
     "metadata": {},
     "output_type": "execute_result"
    }
   ],
   "source": [
    "venues_map = folium.Map(location=[latitude, longitude], zoom_start=13) # generate map centred around the Conrad Hotel\n",
    "\n",
    "# add a red circle marker to represent the Conrad Hotel\n",
    "folium.features.CircleMarker(\n",
    "    [latitude, longitude],\n",
    "    radius=10,\n",
    "    color='red',\n",
    "    popup='Conrad Hotel',\n",
    "    fill = True,\n",
    "    fill_color = 'red',\n",
    "    fill_opacity = 0.6\n",
    ").add_to(venues_map)\n",
    "\n",
    "# add the French restaurants as blue circle markers\n",
    "for lat, lng, label in zip(dataframe_filtered.lat, dataframe_filtered.lng, dataframe_filtered.categories):\n",
    "    folium.features.CircleMarker(\n",
    "        [lat, lng],\n",
    "        radius=5,\n",
    "        color='blue',\n",
    "        popup=label,\n",
    "        fill = True,\n",
    "        fill_color='blue',\n",
    "        fill_opacity=0.6\n",
    "    ).add_to(venues_map)\n",
    "\n",
    "# display map\n",
    "venues_map"
   ]
  },
  {
   "cell_type": "markdown",
   "metadata": {},
   "source": [
    "## 2. Explore a Given Venue\n",
    "> `https://api.foursquare.com/v2/venues/`**VENUE_ID**?client_id=`**CLIENT_ID**`&client_secret=`**CLIENT_SECRET**`&v=`**VERSION**"
   ]
  },
  {
   "cell_type": "code",
   "execution_count": 39,
   "metadata": {},
   "outputs": [
    {
     "data": {
      "text/plain": [
       "'https://api.foursquare.com/v2/venues/4f32b24519836c91c7f0c696?client_id=00MBQFSWXTP43MGA4BF2ZM5T2FDZBNBR32TSJGTMTTCUB4X4&client_secret=U0Z00OSQ3HGWGRXWQUP45CXTKCXMLDKBTLNNZZB2GXZJVYF0&v=20180604'"
      ]
     },
     "execution_count": 39,
     "metadata": {},
     "output_type": "execute_result"
    }
   ],
   "source": [
    "venue_id = '4f32b24519836c91c7f0c696' # ID of M C Choi french restaurant\n",
    "url = 'https://api.foursquare.com/v2/venues/{}?client_id={}&client_secret={}&v={}'.format(venue_id, CLIENT_ID, CLIENT_SECRET, VERSION)\n",
    "url"
   ]
  },
  {
   "cell_type": "code",
   "execution_count": 40,
   "metadata": {},
   "outputs": [
    {
     "name": "stdout",
     "output_type": "stream",
     "text": [
      "dict_keys(['id', 'name', 'contact', 'location', 'canonicalUrl', 'categories', 'verified', 'stats', 'likes', 'dislike', 'ok', 'allowMenuUrlEdit', 'beenHere', 'specials', 'photos', 'reasons', 'hereNow', 'createdAt', 'tips', 'shortUrl', 'timeZone', 'listed', 'seasonalHours', 'pageUpdates', 'inbox', 'attributes'])\n"
     ]
    }
   ],
   "source": [
    "result = requests.get(url).json()\n",
    "print(result['response']['venue'].keys())\n",
    "#result['response']['venue']"
   ]
  },
  {
   "cell_type": "code",
   "execution_count": 41,
   "metadata": {},
   "outputs": [
    {
     "name": "stdout",
     "output_type": "stream",
     "text": [
      "This venue has not been rated yet.\n"
     ]
    }
   ],
   "source": [
    "try:\n",
    "    print(result['response']['venue']['rating'])\n",
    "except:\n",
    "    print('This venue has not been rated yet.')"
   ]
  },
  {
   "cell_type": "markdown",
   "metadata": {},
   "source": [
    "Since the closest restaurant has not been rated yet, which shows no sig of good relationship, so let's try Frenchette"
   ]
  },
  {
   "cell_type": "markdown",
   "metadata": {},
   "source": [
    "## A. Let's explore the closest Italian restaurant -- Frenchette"
   ]
  },
  {
   "cell_type": "code",
   "execution_count": 42,
   "metadata": {},
   "outputs": [
    {
     "data": {
      "text/plain": [
       "'https://api.foursquare.com/v2/venues/5abc33ccad17896edaca3d61?client_id=00MBQFSWXTP43MGA4BF2ZM5T2FDZBNBR32TSJGTMTTCUB4X4&client_secret=U0Z00OSQ3HGWGRXWQUP45CXTKCXMLDKBTLNNZZB2GXZJVYF0&v=20180604'"
      ]
     },
     "execution_count": 42,
     "metadata": {},
     "output_type": "execute_result"
    }
   ],
   "source": [
    "venue_id = '5abc33ccad17896edaca3d61' # ID of Frenchette\n",
    "url = 'https://api.foursquare.com/v2/venues/{}?client_id={}&client_secret={}&v={}'.format(venue_id, CLIENT_ID, CLIENT_SECRET, VERSION)\n",
    "url"
   ]
  },
  {
   "cell_type": "markdown",
   "metadata": {},
   "source": [
    "## Send GET request for result"
   ]
  },
  {
   "cell_type": "code",
   "execution_count": 43,
   "metadata": {},
   "outputs": [
    {
     "name": "stdout",
     "output_type": "stream",
     "text": [
      "dict_keys(['id', 'name', 'contact', 'location', 'canonicalUrl', 'categories', 'verified', 'stats', 'url', 'price', 'likes', 'dislike', 'ok', 'rating', 'ratingColor', 'ratingSignals', 'menu', 'allowMenuUrlEdit', 'beenHere', 'specials', 'photos', 'reasons', 'hereNow', 'createdAt', 'tips', 'shortUrl', 'timeZone', 'listed', 'hours', 'popular', 'seasonalHours', 'defaultHours', 'pageUpdates', 'inbox', 'attributes', 'bestPhoto', 'colors'])\n"
     ]
    }
   ],
   "source": [
    "result = requests.get(url).json()\n",
    "print(result['response']['venue'].keys())\n",
    "#result['response']['venue']"
   ]
  },
  {
   "cell_type": "markdown",
   "metadata": {},
   "source": [
    "### B. Get the venue's overall rating"
   ]
  },
  {
   "cell_type": "code",
   "execution_count": 44,
   "metadata": {},
   "outputs": [
    {
     "name": "stdout",
     "output_type": "stream",
     "text": [
      "8.7\n"
     ]
    }
   ],
   "source": [
    "try:\n",
    "    print(result['response']['venue']['rating'])\n",
    "except:\n",
    "    print('This venue has not been rated yet.')"
   ]
  },
  {
   "cell_type": "markdown",
   "metadata": {},
   "source": [
    "### C. Get the number of tips"
   ]
  },
  {
   "cell_type": "code",
   "execution_count": 45,
   "metadata": {},
   "outputs": [
    {
     "data": {
      "text/plain": [
       "34"
      ]
     },
     "execution_count": 45,
     "metadata": {},
     "output_type": "execute_result"
    }
   ],
   "source": [
    "result['response']['venue']['tips']['count']"
   ]
  },
  {
   "cell_type": "markdown",
   "metadata": {},
   "source": [
    "### D. Get the venue's tips\n",
    "> `https://api.foursquare.com/v2/venues/`**VENUE_ID**`/tips?client_id=`**CLIENT_ID**`&client_secret=`**CLIENT_SECRET**`&v=`**VERSION**`&limit=`**LIMIT**"
   ]
  },
  {
   "cell_type": "markdown",
   "metadata": {},
   "source": [
    "#### Create URL and send GET request. Make sure to set limit to get all tips"
   ]
  },
  {
   "cell_type": "code",
   "execution_count": 46,
   "metadata": {},
   "outputs": [
    {
     "data": {
      "text/plain": [
       "{'meta': {'code': 200, 'requestId': '5e95da27618f43001bebbdc8'},\n",
       " 'response': {'tips': {'count': 35,\n",
       "   'items': [{'id': '5acb719b82a75063efdd4836',\n",
       "     'createdAt': 1523282331,\n",
       "     'text': 'Wooowie, what a good restaurant this is! If on the menu, chicories are a must. Mortadella, definitely. Turbot for two, delicious. No matter what you’re getting frites. Also, the millefeuille. 💯',\n",
       "     'type': 'user',\n",
       "     'canonicalUrl': 'https://foursquare.com/item/5acb719b82a75063efdd4836',\n",
       "     'lang': 'en',\n",
       "     'likes': {'count': 1,\n",
       "      'groups': [{'type': 'others',\n",
       "        'count': 1,\n",
       "        'items': [{'id': '6229518',\n",
       "          'firstName': 'Ricky',\n",
       "          'lastName': 'S',\n",
       "          'photo': {'prefix': 'https://fastly.4sqi.net/img/user/',\n",
       "           'suffix': '/PG3XUEJ2V4BUFNLA.jpg'}}]}],\n",
       "      'summary': '1 like'},\n",
       "     'logView': True,\n",
       "     'editedAt': 1536251109,\n",
       "     'agreeCount': 17,\n",
       "     'disagreeCount': 0,\n",
       "     'lastVoteText': 'Upvoted 4 weeks ago',\n",
       "     'lastUpvoteTimestamp': 1584220223,\n",
       "     'todo': {'count': 1},\n",
       "     'user': {'id': '31472',\n",
       "      'firstName': 'Emily',\n",
       "      'lastName': 'W',\n",
       "      'photo': {'prefix': 'https://fastly.4sqi.net/img/user/',\n",
       "       'suffix': '/31472-J3VPBIQ1WXYG1UB0.jpg'}},\n",
       "     'authorInteractionType': 'liked'}]}}}"
      ]
     },
     "execution_count": 46,
     "metadata": {},
     "output_type": "execute_result"
    }
   ],
   "source": [
    "## Ecco Tips\n",
    "limit = 15 # set limit to be greater than or equal to the total number of tips\n",
    "url = 'https://api.foursquare.com/v2/venues/{}/tips?client_id={}&client_secret={}&v={}&limit={}'.format(venue_id, CLIENT_ID, CLIENT_SECRET, VERSION, limit)\n",
    "\n",
    "results = requests.get(url).json()\n",
    "results"
   ]
  },
  {
   "cell_type": "markdown",
   "metadata": {},
   "source": [
    "#### Get tips and list of associated features"
   ]
  },
  {
   "cell_type": "code",
   "execution_count": 47,
   "metadata": {},
   "outputs": [
    {
     "data": {
      "text/plain": [
       "dict_keys(['id', 'createdAt', 'text', 'type', 'canonicalUrl', 'lang', 'likes', 'logView', 'editedAt', 'agreeCount', 'disagreeCount', 'lastVoteText', 'lastUpvoteTimestamp', 'todo', 'user', 'authorInteractionType'])"
      ]
     },
     "execution_count": 47,
     "metadata": {},
     "output_type": "execute_result"
    }
   ],
   "source": [
    "tips = results['response']['tips']['items']\n",
    "\n",
    "tip = results['response']['tips']['items'][0]\n",
    "tip.keys()"
   ]
  },
  {
   "cell_type": "code",
   "execution_count": 48,
   "metadata": {},
   "outputs": [
    {
     "name": "stderr",
     "output_type": "stream",
     "text": [
      "/home/jupyterlab/conda/envs/python/lib/python3.6/site-packages/ipykernel_launcher.py:1: FutureWarning: Passing a negative integer is deprecated in version 1.0 and will not be supported in future version. Instead, use None to not limit the column width.\n",
      "  \"\"\"Entry point for launching an IPython kernel.\n",
      "/home/jupyterlab/conda/envs/python/lib/python3.6/site-packages/ipykernel_launcher.py:3: FutureWarning: pandas.io.json.json_normalize is deprecated, use pandas.json_normalize instead\n",
      "  This is separate from the ipykernel package so we can avoid doing imports until\n"
     ]
    }
   ],
   "source": [
    "pd.set_option('display.max_colwidth', -1)\n",
    "\n",
    "tips_df = json_normalize(tips) # json normalize tips\n",
    "\n",
    "# columns to keep\n",
    "filtered_columns = ['text', 'agreeCount', 'disagreeCount', 'id', 'user.firstName', 'user.lastName', 'user.gender', 'user.id']\n",
    "#tips_filtered = tips_df.loc[:, filtered_columns]\n",
    "\n",
    "# display tips\n",
    "#tips_filtered"
   ]
  },
  {
   "cell_type": "code",
   "execution_count": 49,
   "metadata": {},
   "outputs": [
    {
     "name": "stderr",
     "output_type": "stream",
     "text": [
      "/home/jupyterlab/conda/envs/python/lib/python3.6/site-packages/ipykernel_launcher.py:1: FutureWarning: Passing a negative integer is deprecated in version 1.0 and will not be supported in future version. Instead, use None to not limit the column width.\n",
      "  \"\"\"Entry point for launching an IPython kernel.\n",
      "/home/jupyterlab/conda/envs/python/lib/python3.6/site-packages/ipykernel_launcher.py:3: FutureWarning: pandas.io.json.json_normalize is deprecated, use pandas.json_normalize instead\n",
      "  This is separate from the ipykernel package so we can avoid doing imports until\n"
     ]
    },
    {
     "data": {
      "text/html": [
       "<div>\n",
       "<style scoped>\n",
       "    .dataframe tbody tr th:only-of-type {\n",
       "        vertical-align: middle;\n",
       "    }\n",
       "\n",
       "    .dataframe tbody tr th {\n",
       "        vertical-align: top;\n",
       "    }\n",
       "\n",
       "    .dataframe thead th {\n",
       "        text-align: right;\n",
       "    }\n",
       "</style>\n",
       "<table border=\"1\" class=\"dataframe\">\n",
       "  <thead>\n",
       "    <tr style=\"text-align: right;\">\n",
       "      <th></th>\n",
       "      <th>text</th>\n",
       "      <th>agreeCount</th>\n",
       "      <th>disagreeCount</th>\n",
       "      <th>id</th>\n",
       "      <th>user.firstName</th>\n",
       "      <th>user.lastName</th>\n",
       "      <th>user.gender</th>\n",
       "      <th>user.id</th>\n",
       "    </tr>\n",
       "  </thead>\n",
       "  <tbody>\n",
       "    <tr>\n",
       "      <th>0</th>\n",
       "      <td>Wooowie, what a good restaurant this is! If on the menu, chicories are a must. Mortadella, definitely. Turbot for two, delicious. No matter what you’re getting frites. Also, the millefeuille. 💯</td>\n",
       "      <td>17</td>\n",
       "      <td>0</td>\n",
       "      <td>5acb719b82a75063efdd4836</td>\n",
       "      <td>Emily</td>\n",
       "      <td>W</td>\n",
       "      <td>NaN</td>\n",
       "      <td>31472</td>\n",
       "    </tr>\n",
       "  </tbody>\n",
       "</table>\n",
       "</div>"
      ],
      "text/plain": [
       "                                                                                                                                                                                                text  \\\n",
       "0  Wooowie, what a good restaurant this is! If on the menu, chicories are a must. Mortadella, definitely. Turbot for two, delicious. No matter what you’re getting frites. Also, the millefeuille. 💯   \n",
       "\n",
       "   agreeCount  disagreeCount                        id user.firstName  \\\n",
       "0  17          0              5acb719b82a75063efdd4836  Emily           \n",
       "\n",
       "  user.lastName  user.gender user.id  \n",
       "0  W            NaN           31472   "
      ]
     },
     "execution_count": 49,
     "metadata": {},
     "output_type": "execute_result"
    }
   ],
   "source": [
    "pd.set_option('display.max_colwidth', -1)\n",
    "\n",
    "tips_df = json_normalize(tips) # json normalize tips\n",
    "tips_df.reindex(columns = filtered_columns)"
   ]
  },
  {
   "cell_type": "code",
   "execution_count": 50,
   "metadata": {},
   "outputs": [
    {
     "data": {
      "text/html": [
       "<div>\n",
       "<style scoped>\n",
       "    .dataframe tbody tr th:only-of-type {\n",
       "        vertical-align: middle;\n",
       "    }\n",
       "\n",
       "    .dataframe tbody tr th {\n",
       "        vertical-align: top;\n",
       "    }\n",
       "\n",
       "    .dataframe thead th {\n",
       "        text-align: right;\n",
       "    }\n",
       "</style>\n",
       "<table border=\"1\" class=\"dataframe\">\n",
       "  <thead>\n",
       "    <tr style=\"text-align: right;\">\n",
       "      <th></th>\n",
       "      <th>text</th>\n",
       "      <th>agreeCount</th>\n",
       "      <th>disagreeCount</th>\n",
       "      <th>id</th>\n",
       "      <th>user.firstName</th>\n",
       "      <th>user.lastName</th>\n",
       "      <th>user.gender</th>\n",
       "      <th>user.id</th>\n",
       "    </tr>\n",
       "  </thead>\n",
       "  <tbody>\n",
       "    <tr>\n",
       "      <th>0</th>\n",
       "      <td>Wooowie, what a good restaurant this is! If on the menu, chicories are a must. Mortadella, definitely. Turbot for two, delicious. No matter what you’re getting frites. Also, the millefeuille. 💯</td>\n",
       "      <td>17</td>\n",
       "      <td>0</td>\n",
       "      <td>5acb719b82a75063efdd4836</td>\n",
       "      <td>Emily</td>\n",
       "      <td>W</td>\n",
       "      <td>NaN</td>\n",
       "      <td>31472</td>\n",
       "    </tr>\n",
       "  </tbody>\n",
       "</table>\n",
       "</div>"
      ],
      "text/plain": [
       "                                                                                                                                                                                                text  \\\n",
       "0  Wooowie, what a good restaurant this is! If on the menu, chicories are a must. Mortadella, definitely. Turbot for two, delicious. No matter what you’re getting frites. Also, the millefeuille. 💯   \n",
       "\n",
       "   agreeCount  disagreeCount                        id user.firstName  \\\n",
       "0  17          0              5acb719b82a75063efdd4836  Emily           \n",
       "\n",
       "  user.lastName  user.gender user.id  \n",
       "0  W            NaN           31472   "
      ]
     },
     "execution_count": 50,
     "metadata": {},
     "output_type": "execute_result"
    }
   ],
   "source": [
    "# columns to keep\n",
    "filtered_columns = ['text', 'agreeCount', 'disagreeCount', 'id', 'user.firstName', 'user.lastName', 'user.gender', 'user.id']\n",
    "\n",
    "#tips_filtered = tips_df.loc[:, filtered_columns]\n",
    "tips_filtered = tips_df.reindex(columns= filtered_columns)\n",
    "\n",
    "# display tips\n",
    "tips_filtered"
   ]
  },
  {
   "cell_type": "markdown",
   "metadata": {},
   "source": [
    "### Hence Frenchette serve as a good restaurant close to the hotel i lodged in, and there's a problem of distance from the hotel, which serve as a research for a business man to start a French restaurant which will be close to the hotel location, since the hotel has no french meal on the table."
   ]
  },
  {
   "cell_type": "code",
   "execution_count": null,
   "metadata": {},
   "outputs": [],
   "source": []
  }
 ],
 "metadata": {
  "kernelspec": {
   "display_name": "Python",
   "language": "python",
   "name": "conda-env-python-py"
  },
  "language_info": {
   "codemirror_mode": {
    "name": "ipython",
    "version": 3
   },
   "file_extension": ".py",
   "mimetype": "text/x-python",
   "name": "python",
   "nbconvert_exporter": "python",
   "pygments_lexer": "ipython3",
   "version": "3.6.10"
  }
 },
 "nbformat": 4,
 "nbformat_minor": 4
}
